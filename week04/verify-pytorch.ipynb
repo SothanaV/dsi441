{
 "cells": [
  {
   "cell_type": "code",
   "execution_count": 1,
   "id": "79806158",
   "metadata": {},
   "outputs": [
    {
     "name": "stderr",
     "output_type": "stream",
     "text": [
      "/Users/naii/Desktop/project/dsi441/env/lib/python3.7/site-packages/torch/package/_mock_zipreader.py:17: UserWarning: Failed to initialize NumPy: numpy.core.multiarray failed to import (Triggered internally at  ../torch/csrc/utils/tensor_numpy.cpp:67.)\n",
      "  _dtype_to_storage = {data_type(0).dtype: data_type for data_type in _storages}\n"
     ]
    }
   ],
   "source": [
    "import torch"
   ]
  },
  {
   "cell_type": "code",
   "execution_count": 10,
   "id": "f4989125",
   "metadata": {},
   "outputs": [
    {
     "data": {
      "text/plain": [
       "tensor([[0.8214, 0.7751, 0.9023, 0.7167, 0.5637],\n",
       "        [0.5151, 0.6552, 0.8391, 0.6489, 0.0590],\n",
       "        [0.1878, 0.6639, 0.9363, 0.8056, 0.2907],\n",
       "        [0.1702, 0.5325, 0.9389, 0.9210, 0.2039],\n",
       "        [0.3922, 0.9605, 0.4143, 0.5472, 0.8225]])"
      ]
     },
     "execution_count": 10,
     "metadata": {},
     "output_type": "execute_result"
    }
   ],
   "source": [
    "x = torch.rand(5, 5)\n",
    "x"
   ]
  },
  {
   "cell_type": "code",
   "execution_count": 11,
   "id": "1db32ca5",
   "metadata": {},
   "outputs": [
    {
     "data": {
      "text/plain": [
       "tensor([[1., 0., 0., 0., 0.],\n",
       "        [0., 1., 0., 0., 0.],\n",
       "        [0., 0., 1., 0., 0.],\n",
       "        [0., 0., 0., 1., 0.],\n",
       "        [0., 0., 0., 0., 1.]])"
      ]
     },
     "execution_count": 11,
     "metadata": {},
     "output_type": "execute_result"
    }
   ],
   "source": [
    "y = torch.eye(5)\n",
    "y"
   ]
  },
  {
   "cell_type": "code",
   "execution_count": 13,
   "id": "0731a2d7",
   "metadata": {},
   "outputs": [
    {
     "data": {
      "text/plain": [
       "tensor([[0.8214, 0.0000, 0.0000, 0.0000, 0.0000],\n",
       "        [0.0000, 0.6552, 0.0000, 0.0000, 0.0000],\n",
       "        [0.0000, 0.0000, 0.9363, 0.0000, 0.0000],\n",
       "        [0.0000, 0.0000, 0.0000, 0.9210, 0.0000],\n",
       "        [0.0000, 0.0000, 0.0000, 0.0000, 0.8225]])"
      ]
     },
     "execution_count": 13,
     "metadata": {},
     "output_type": "execute_result"
    }
   ],
   "source": [
    "x*y"
   ]
  },
  {
   "cell_type": "code",
   "execution_count": 15,
   "id": "4d16e4f1",
   "metadata": {},
   "outputs": [
    {
     "data": {
      "text/plain": [
       "tensor([[1.8214, 0.7751, 0.9023, 0.7167, 0.5637],\n",
       "        [0.5151, 1.6552, 0.8391, 0.6489, 0.0590],\n",
       "        [0.1878, 0.6639, 1.9363, 0.8056, 0.2907],\n",
       "        [0.1702, 0.5325, 0.9389, 1.9210, 0.2039],\n",
       "        [0.3922, 0.9605, 0.4143, 0.5472, 1.8225]])"
      ]
     },
     "execution_count": 15,
     "metadata": {},
     "output_type": "execute_result"
    }
   ],
   "source": [
    "x+y"
   ]
  },
  {
   "cell_type": "code",
   "execution_count": null,
   "id": "71c24231",
   "metadata": {},
   "outputs": [],
   "source": []
  }
 ],
 "metadata": {
  "kernelspec": {
   "display_name": "Python 3 (ipykernel)",
   "language": "python",
   "name": "python3"
  },
  "language_info": {
   "codemirror_mode": {
    "name": "ipython",
    "version": 3
   },
   "file_extension": ".py",
   "mimetype": "text/x-python",
   "name": "python",
   "nbconvert_exporter": "python",
   "pygments_lexer": "ipython3",
   "version": "3.7.6"
  }
 },
 "nbformat": 4,
 "nbformat_minor": 5
}
