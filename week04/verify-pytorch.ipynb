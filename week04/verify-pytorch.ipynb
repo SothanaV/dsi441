{
 "cells": [
  {
   "cell_type": "code",
   "execution_count": 16,
   "id": "79806158",
   "metadata": {},
   "outputs": [],
   "source": [
    "import torch"
   ]
  },
  {
   "cell_type": "code",
   "execution_count": 17,
   "id": "f4989125",
   "metadata": {},
   "outputs": [
    {
     "data": {
      "text/plain": [
       "tensor([[0.0042, 0.8935, 0.2216, 0.8388, 0.9451],\n",
       "        [0.4160, 0.0192, 0.4348, 0.5769, 0.5527],\n",
       "        [0.3071, 0.6416, 0.3363, 0.0464, 0.6886],\n",
       "        [0.0805, 0.0915, 0.7556, 0.3681, 0.1057],\n",
       "        [0.7714, 0.6015, 0.7054, 0.8535, 0.4520]])"
      ]
     },
     "execution_count": 17,
     "metadata": {},
     "output_type": "execute_result"
    }
   ],
   "source": [
    "x = torch.rand(5, 5)\n",
    "x"
   ]
  },
  {
   "cell_type": "code",
   "execution_count": 18,
   "id": "1db32ca5",
   "metadata": {},
   "outputs": [
    {
     "data": {
      "text/plain": [
       "tensor([[1., 0., 0., 0., 0.],\n",
       "        [0., 1., 0., 0., 0.],\n",
       "        [0., 0., 1., 0., 0.],\n",
       "        [0., 0., 0., 1., 0.],\n",
       "        [0., 0., 0., 0., 1.]])"
      ]
     },
     "execution_count": 18,
     "metadata": {},
     "output_type": "execute_result"
    }
   ],
   "source": [
    "y = torch.eye(5)\n",
    "y"
   ]
  },
  {
   "cell_type": "code",
   "execution_count": 19,
   "id": "0731a2d7",
   "metadata": {},
   "outputs": [
    {
     "data": {
      "text/plain": [
       "tensor([[0.0042, 0.0000, 0.0000, 0.0000, 0.0000],\n",
       "        [0.0000, 0.0192, 0.0000, 0.0000, 0.0000],\n",
       "        [0.0000, 0.0000, 0.3363, 0.0000, 0.0000],\n",
       "        [0.0000, 0.0000, 0.0000, 0.3681, 0.0000],\n",
       "        [0.0000, 0.0000, 0.0000, 0.0000, 0.4520]])"
      ]
     },
     "execution_count": 19,
     "metadata": {},
     "output_type": "execute_result"
    }
   ],
   "source": [
    "x*y"
   ]
  },
  {
   "cell_type": "code",
   "execution_count": 20,
   "id": "4d16e4f1",
   "metadata": {},
   "outputs": [
    {
     "data": {
      "text/plain": [
       "tensor([[1.0042, 0.8935, 0.2216, 0.8388, 0.9451],\n",
       "        [0.4160, 1.0192, 0.4348, 0.5769, 0.5527],\n",
       "        [0.3071, 0.6416, 1.3363, 0.0464, 0.6886],\n",
       "        [0.0805, 0.0915, 0.7556, 1.3681, 0.1057],\n",
       "        [0.7714, 0.6015, 0.7054, 0.8535, 1.4520]])"
      ]
     },
     "execution_count": 20,
     "metadata": {},
     "output_type": "execute_result"
    }
   ],
   "source": [
    "x+y"
   ]
  },
  {
   "cell_type": "code",
   "execution_count": null,
   "id": "71c24231",
   "metadata": {},
   "outputs": [],
   "source": []
  }
 ],
 "metadata": {
  "kernelspec": {
   "display_name": "Python 3 (ipykernel)",
   "language": "python",
   "name": "python3"
  },
  "language_info": {
   "codemirror_mode": {
    "name": "ipython",
    "version": 3
   },
   "file_extension": ".py",
   "mimetype": "text/x-python",
   "name": "python",
   "nbconvert_exporter": "python",
   "pygments_lexer": "ipython3",
   "version": "3.7.6"
  }
 },
 "nbformat": 4,
 "nbformat_minor": 5
}
